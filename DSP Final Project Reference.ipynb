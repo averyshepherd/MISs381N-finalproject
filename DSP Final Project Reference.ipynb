{
 "cells": [
  {
   "cell_type": "markdown",
   "id": "31d6f460",
   "metadata": {},
   "source": [
    "# Importing the necessary libraries"
   ]
  },
  {
   "cell_type": "code",
   "execution_count": 1,
   "id": "e402cfb3",
   "metadata": {},
   "outputs": [
    {
     "name": "stdout",
     "output_type": "stream",
     "text": [
      "Populating the interactive namespace from numpy and matplotlib\n"
     ]
    }
   ],
   "source": [
    "import pandas as pd\n",
    "from patsy import dmatrices, build_design_matrices\n",
    "import statsmodels.api as sm\n",
    "from sklearn.preprocessing import MinMaxScaler\n",
    "from sklearn.model_selection import train_test_split\n",
    "from sklearn.metrics import mean_squared_error\n",
    "from sklearn import linear_model\n",
    "from sklearn.model_selection import ShuffleSplit\n",
    "from sklearn.metrics import mean_absolute_percentage_error\n",
    "import warnings\n",
    "warnings.filterwarnings(\"ignore\")\n",
    "%pylab inline"
   ]
  },
  {
   "cell_type": "markdown",
   "id": "9304aa44",
   "metadata": {},
   "source": [
    "# Reading the data"
   ]
  },
  {
   "cell_type": "code",
   "execution_count": 2,
   "id": "3765336c",
   "metadata": {},
   "outputs": [
    {
     "data": {
      "text/html": [
       "<div>\n",
       "<style scoped>\n",
       "    .dataframe tbody tr th:only-of-type {\n",
       "        vertical-align: middle;\n",
       "    }\n",
       "\n",
       "    .dataframe tbody tr th {\n",
       "        vertical-align: top;\n",
       "    }\n",
       "\n",
       "    .dataframe thead th {\n",
       "        text-align: right;\n",
       "    }\n",
       "</style>\n",
       "<table border=\"1\" class=\"dataframe\">\n",
       "  <thead>\n",
       "    <tr style=\"text-align: right;\">\n",
       "      <th></th>\n",
       "      <th>id</th>\n",
       "      <th>name</th>\n",
       "      <th>host_id</th>\n",
       "      <th>host_name</th>\n",
       "      <th>neighbourhood_group</th>\n",
       "      <th>neighbourhood</th>\n",
       "      <th>latitude</th>\n",
       "      <th>longitude</th>\n",
       "      <th>room_type</th>\n",
       "      <th>price</th>\n",
       "      <th>minimum_nights</th>\n",
       "      <th>number_of_reviews</th>\n",
       "      <th>last_review</th>\n",
       "      <th>reviews_per_month</th>\n",
       "      <th>calculated_host_listings_count</th>\n",
       "      <th>availability_365</th>\n",
       "    </tr>\n",
       "  </thead>\n",
       "  <tbody>\n",
       "    <tr>\n",
       "      <th>0</th>\n",
       "      <td>2818</td>\n",
       "      <td>Quiet Garden View Room &amp; Super Fast WiFi</td>\n",
       "      <td>3159</td>\n",
       "      <td>Daniel</td>\n",
       "      <td>NaN</td>\n",
       "      <td>Oostelijk Havengebied - Indische Buurt</td>\n",
       "      <td>52.36435</td>\n",
       "      <td>4.94358</td>\n",
       "      <td>Private room</td>\n",
       "      <td>60</td>\n",
       "      <td>3</td>\n",
       "      <td>278</td>\n",
       "      <td>2019-11-21</td>\n",
       "      <td>2.90</td>\n",
       "      <td>1</td>\n",
       "      <td>137</td>\n",
       "    </tr>\n",
       "    <tr>\n",
       "      <th>1</th>\n",
       "      <td>20168</td>\n",
       "      <td>Studio with private bathroom in the centre 1</td>\n",
       "      <td>59484</td>\n",
       "      <td>Alexander</td>\n",
       "      <td>NaN</td>\n",
       "      <td>Centrum-Oost</td>\n",
       "      <td>52.36407</td>\n",
       "      <td>4.89393</td>\n",
       "      <td>Private room</td>\n",
       "      <td>106</td>\n",
       "      <td>1</td>\n",
       "      <td>339</td>\n",
       "      <td>2020-03-27</td>\n",
       "      <td>3.73</td>\n",
       "      <td>2</td>\n",
       "      <td>0</td>\n",
       "    </tr>\n",
       "  </tbody>\n",
       "</table>\n",
       "</div>"
      ],
      "text/plain": [
       "      id                                          name  host_id  host_name  \\\n",
       "0   2818      Quiet Garden View Room & Super Fast WiFi     3159     Daniel   \n",
       "1  20168  Studio with private bathroom in the centre 1    59484  Alexander   \n",
       "\n",
       "   neighbourhood_group                           neighbourhood  latitude  \\\n",
       "0                  NaN  Oostelijk Havengebied - Indische Buurt  52.36435   \n",
       "1                  NaN                            Centrum-Oost  52.36407   \n",
       "\n",
       "   longitude     room_type  price  minimum_nights  number_of_reviews  \\\n",
       "0    4.94358  Private room     60               3                278   \n",
       "1    4.89393  Private room    106               1                339   \n",
       "\n",
       "  last_review  reviews_per_month  calculated_host_listings_count  \\\n",
       "0  2019-11-21               2.90                               1   \n",
       "1  2020-03-27               3.73                               2   \n",
       "\n",
       "   availability_365  \n",
       "0               137  \n",
       "1                 0  "
      ]
     },
     "execution_count": 2,
     "metadata": {},
     "output_type": "execute_result"
    }
   ],
   "source": [
    "amseterdam_airbnb = pd.read_csv('/Users/Kaushik Kumaran/Documents/GitHub/MISs381N-finalproject/listings.csv')\n",
    "amseterdam_airbnb.head(2)"
   ]
  },
  {
   "cell_type": "markdown",
   "id": "0947fa8e",
   "metadata": {},
   "source": [
    "# Pre processing and cleaning"
   ]
  },
  {
   "cell_type": "code",
   "execution_count": 3,
   "id": "ab071c9d",
   "metadata": {},
   "outputs": [],
   "source": [
    "amseterdam_airbnb['reviews_per_month'] = amseterdam_airbnb['reviews_per_month'].fillna(0)\n",
    "amseterdam_airbnb.drop(['neighbourhood_group'], inplace=True, axis=1)\n",
    "\n",
    "Q1 = amseterdam_airbnb['price'].quantile(0.25)\n",
    "Q3 = amseterdam_airbnb['price'].quantile(0.75)\n",
    "IQR = Q3 - Q1\n",
    "amseterdam_airbnb = amseterdam_airbnb[~((amseterdam_airbnb['price'] < (Q1 - 1.5 * IQR)) |(amseterdam_airbnb['price'] > (Q3 + 1.5 * IQR)))]"
   ]
  },
  {
   "cell_type": "markdown",
   "id": "53ab214d",
   "metadata": {},
   "source": [
    "# Scaling the variables"
   ]
  },
  {
   "cell_type": "code",
   "execution_count": 4,
   "id": "c924317c",
   "metadata": {},
   "outputs": [],
   "source": [
    "norm_col = ['latitude','longitude','price','minimum_nights','number_of_reviews','reviews_per_month','calculated_host_listings_count','availability_365']\n",
    "\n",
    "amseterdam_airbnb_norm = amseterdam_airbnb.copy()\n",
    "for name in norm_col:\n",
    "    amseterdam_airbnb_norm[name] = (amseterdam_airbnb_norm[name] - amseterdam_airbnb_norm[name].min())/(amseterdam_airbnb_norm[name].max() - amseterdam_airbnb_norm[name].min())\n",
    "\n",
    "    \n",
    "a = amseterdam_airbnb['price'].max()\n",
    "b = amseterdam_airbnb['price'].min()\n",
    "\n",
    "def de_norm(MSE) : \n",
    "    return (MSE*(a-b))+b"
   ]
  },
  {
   "cell_type": "markdown",
   "id": "b392cb48",
   "metadata": {},
   "source": [
    "# Linear Regression"
   ]
  },
  {
   "cell_type": "code",
   "execution_count": 5,
   "id": "e892bd45",
   "metadata": {},
   "outputs": [],
   "source": [
    "y,X = dmatrices('price ~ neighbourhood + room_type + number_of_reviews + availability_365 \\\n",
    "                + minimum_nights + reviews_per_month + calculated_host_listings_count',\n",
    "                data = amseterdam_airbnb_norm, return_type = 'dataframe')\n",
    "\n",
    "y = y['price'].values\n"
   ]
  },
  {
   "cell_type": "code",
   "execution_count": 6,
   "id": "2b9995bc",
   "metadata": {},
   "outputs": [
    {
     "name": "stdout",
     "output_type": "stream",
     "text": [
      "51.51293296309212\n",
      "                            OLS Regression Results                            \n",
      "==============================================================================\n",
      "Dep. Variable:                      y   R-squared:                       0.242\n",
      "Model:                            OLS   Adj. R-squared:                  0.240\n",
      "Method:                 Least Squares   F-statistic:                     121.6\n",
      "Date:                Sat, 07 Aug 2021   Prob (F-statistic):               0.00\n",
      "Time:                        14:51:59   Log-Likelihood:                 4059.4\n",
      "No. Observations:               11089   AIC:                            -8059.\n",
      "Df Residuals:                   11059   BIC:                            -7839.\n",
      "Df Model:                          29                                         \n",
      "Covariance Type:            nonrobust                                         \n",
      "===========================================================================================================================\n",
      "                                                              coef    std err          t      P>|t|      [0.025      0.975]\n",
      "---------------------------------------------------------------------------------------------------------------------------\n",
      "Intercept                                                   0.3975      0.022     17.774      0.000       0.354       0.441\n",
      "neighbourhood[T.Bijlmer-Oost]                               0.0135      0.031      0.429      0.668      -0.048       0.075\n",
      "neighbourhood[T.Bos en Lommer]                              0.0062      0.023      0.268      0.789      -0.039       0.052\n",
      "neighbourhood[T.Buitenveldert - Zuidas]                     0.0557      0.026      2.154      0.031       0.005       0.106\n",
      "neighbourhood[T.Centrum-Oost]                               0.1409      0.023      6.128      0.000       0.096       0.186\n",
      "neighbourhood[T.Centrum-West]                               0.1463      0.023      6.407      0.000       0.102       0.191\n",
      "neighbourhood[T.De Aker - Nieuw Sloten]                     0.0235      0.029      0.807      0.420      -0.034       0.080\n",
      "neighbourhood[T.De Baarsjes - Oud-West]                     0.0739      0.023      3.262      0.001       0.029       0.118\n",
      "neighbourhood[T.De Pijp - Rivierenbuurt]                    0.0980      0.023      4.304      0.000       0.053       0.143\n",
      "neighbourhood[T.Gaasperdam - Driemond]                     -0.0307      0.029     -1.041      0.298      -0.088       0.027\n",
      "neighbourhood[T.Geuzenveld - Slotermeer]                    0.0326      0.026      1.243      0.214      -0.019       0.084\n",
      "neighbourhood[T.IJburg - Zeeburgereiland]                   0.1146      0.025      4.671      0.000       0.067       0.163\n",
      "neighbourhood[T.Noord-Oost]                                 0.0559      0.026      2.175      0.030       0.006       0.106\n",
      "neighbourhood[T.Noord-West]                                 0.0478      0.025      1.925      0.054      -0.001       0.097\n",
      "neighbourhood[T.Oostelijk Havengebied - Indische Buurt]     0.0326      0.023      1.391      0.164      -0.013       0.079\n",
      "neighbourhood[T.Osdorp]                                    -0.0045      0.029     -0.155      0.877      -0.062       0.053\n",
      "neighbourhood[T.Oud-Noord]                                  0.0664      0.024      2.752      0.006       0.019       0.114\n",
      "neighbourhood[T.Oud-Oost]                                   0.0600      0.023      2.592      0.010       0.015       0.105\n",
      "neighbourhood[T.Slotervaart]                                0.0263      0.025      1.069      0.285      -0.022       0.075\n",
      "neighbourhood[T.Watergraafsmeer]                            0.0709      0.024      2.946      0.003       0.024       0.118\n",
      "neighbourhood[T.Westerpark]                                 0.0707      0.023      3.066      0.002       0.025       0.116\n",
      "neighbourhood[T.Zuid]                                       0.0932      0.023      4.040      0.000       0.048       0.138\n",
      "room_type[T.Hotel room]                                    -0.1720      0.019     -8.870      0.000      -0.210      -0.134\n",
      "room_type[T.Private room]                                  -0.1997      0.004    -47.460      0.000      -0.208      -0.191\n",
      "room_type[T.Shared room]                                   -0.2469      0.030     -8.260      0.000      -0.305      -0.188\n",
      "number_of_reviews                                          -0.1502      0.040     -3.778      0.000      -0.228      -0.072\n",
      "availability_365                                            0.1249      0.006     21.483      0.000       0.114       0.136\n",
      "minimum_nights                                             -0.2204      0.101     -2.180      0.029      -0.419      -0.022\n",
      "reviews_per_month                                          -0.1453      0.072     -2.007      0.045      -0.287      -0.003\n",
      "calculated_host_listings_count                             -0.0318      0.023     -1.376      0.169      -0.077       0.014\n",
      "==============================================================================\n",
      "Omnibus:                     1033.052   Durbin-Watson:                   2.000\n",
      "Prob(Omnibus):                  0.000   Jarque-Bera (JB):             1355.701\n",
      "Skew:                           0.802   Prob(JB):                    4.11e-295\n",
      "Kurtosis:                       3.602   Cond. No.                         71.4\n",
      "==============================================================================\n",
      "\n",
      "Notes:\n",
      "[1] Standard Errors assume that the covariance matrix of the errors is correctly specified.\n"
     ]
    }
   ],
   "source": [
    "X_train, X_test, y_train, y_test = train_test_split(X, y, test_size=0.3, random_state=1)\n",
    "\n",
    "lm = sm.OLS(y_train,X_train)\n",
    "model = lm.fit() \n",
    "from sklearn import metrics\n",
    "\n",
    "prediction_train = model.predict(X_train)\n",
    "rms = mean_squared_error(de_norm(y_train), de_norm(prediction_train), squared=False)\n",
    "print(rms)\n",
    "print(model.summary())"
   ]
  },
  {
   "cell_type": "code",
   "execution_count": 7,
   "id": "d08d1893",
   "metadata": {},
   "outputs": [
    {
     "data": {
      "text/plain": [
       "51.53877176676307"
      ]
     },
     "execution_count": 7,
     "metadata": {},
     "output_type": "execute_result"
    }
   ],
   "source": [
    "prediction_test = model.predict(X_test)\n",
    "rms = mean_squared_error(de_norm(y_test), de_norm(prediction_test), squared=False)\n",
    "rms"
   ]
  },
  {
   "cell_type": "code",
   "execution_count": 8,
   "id": "2c9b63b5",
   "metadata": {},
   "outputs": [
    {
     "data": {
      "text/plain": [
       "51.53877176676307"
      ]
     },
     "execution_count": 8,
     "metadata": {},
     "output_type": "execute_result"
    }
   ],
   "source": [
    "def cv_accuracy_score(X, y):\n",
    "    \"\"\"For each fold, fit the nearest neighbors model\n",
    "    with nn nearest neighbors on the train, and return accuracy\n",
    "    on the test.\"\"\"\n",
    "    \n",
    "    MSE_array = []\n",
    "    model = linear_model.LinearRegression()\n",
    "    \n",
    "    kfold = ShuffleSplit(n_splits=5, random_state=None).split(X, y)\n",
    "    \n",
    "    for train, holdout in kfold:\n",
    "        # Select the training and testing data using the indices\n",
    "        # provided by kfold\n",
    "        X_train = X.iloc[train]\n",
    "        X_holdout = X.iloc[holdout]\n",
    "        y_train = y[train]\n",
    "        y_holdout = y[holdout]\n",
    "        \n",
    "        # Fit the model\n",
    "        model.fit(X_train, y_train)\n",
    "        \n",
    "        # Compute test accuracy\n",
    "        MSE = mean_squared_error(de_norm(y_test), de_norm(prediction_test), squared=False)\n",
    "        MSE_array.append(MSE)\n",
    "    return average(MSE_array)\n",
    "\n",
    "cv_accuracy_score(X,y)"
   ]
  },
  {
   "cell_type": "markdown",
   "id": "7bff1ec9",
   "metadata": {},
   "source": [
    "# Lasso Regression"
   ]
  },
  {
   "cell_type": "code",
   "execution_count": 9,
   "id": "1349337d",
   "metadata": {},
   "outputs": [
    {
     "data": {
      "text/plain": [
       "59.15650417087327"
      ]
     },
     "execution_count": 9,
     "metadata": {},
     "output_type": "execute_result"
    }
   ],
   "source": [
    "clf = linear_model.Lasso(alpha=0.1)\n",
    "result = clf.fit(X_train, y_train) \n",
    "from sklearn import metrics\n",
    "\n",
    "prediction_train = result.predict(X_train)\n",
    "rms = mean_squared_error(de_norm(y_train), de_norm(prediction_train), squared=False)\n",
    "rms"
   ]
  },
  {
   "cell_type": "code",
   "execution_count": 10,
   "id": "2258ff9f",
   "metadata": {},
   "outputs": [
    {
     "data": {
      "text/plain": [
       "58.583601412435826"
      ]
     },
     "execution_count": 10,
     "metadata": {},
     "output_type": "execute_result"
    }
   ],
   "source": [
    "prediction_test = result.predict(X_test)\n",
    "rms = mean_squared_error(de_norm(y_test), de_norm(prediction_test), squared=False)\n",
    "rms"
   ]
  },
  {
   "cell_type": "code",
   "execution_count": 11,
   "id": "e39ebfc3",
   "metadata": {},
   "outputs": [
    {
     "data": {
      "text/plain": [
       "array([ 0., -0., -0., -0.,  0.,  0., -0.,  0.,  0., -0., -0.,  0., -0.,\n",
       "       -0., -0., -0., -0., -0., -0., -0.,  0.,  0., -0., -0., -0., -0.,\n",
       "        0.,  0., -0., -0.])"
      ]
     },
     "execution_count": 11,
     "metadata": {},
     "output_type": "execute_result"
    }
   ],
   "source": [
    "result.coef_"
   ]
  },
  {
   "cell_type": "code",
   "execution_count": 12,
   "id": "94279dd1",
   "metadata": {},
   "outputs": [
    {
     "data": {
      "text/plain": [
       "58.410501702649825"
      ]
     },
     "execution_count": 12,
     "metadata": {},
     "output_type": "execute_result"
    }
   ],
   "source": [
    "def cv_accuracy_score(X, y,alpha):\n",
    "    \"\"\"For each fold, fit the nearest neighbors model\n",
    "    with nn nearest neighbors on the train, and return accuracy\n",
    "    on the test.\"\"\"\n",
    "    \n",
    "    MSE_array = []\n",
    "    model = linear_model.Lasso(alpha=alpha)\n",
    "    \n",
    "    kfold = ShuffleSplit(n_splits=5, random_state=None).split(X, y)\n",
    "    \n",
    "    for train, holdout in kfold:\n",
    "        # Select the training and testing data using the indices\n",
    "        # provided by kfold\n",
    "        X_train = X.iloc[train]\n",
    "        X_holdout = X.iloc[holdout]\n",
    "        y_train = y[train]\n",
    "        y_holdout = y[holdout]\n",
    "        \n",
    "        # Fit the model\n",
    "        model.fit(X_train, y_train)\n",
    "        \n",
    "        # Compute test accuracy\n",
    "        MSE = mean_squared_error(de_norm(model.predict(X_holdout)), de_norm(y_holdout), squared=False)\n",
    "        MSE_array.append(MSE)\n",
    "    return average(MSE_array)\n",
    "\n",
    "cv_accuracy_score(X,y,0.1)"
   ]
  },
  {
   "cell_type": "code",
   "execution_count": 13,
   "id": "d506d27d",
   "metadata": {},
   "outputs": [
    {
     "data": {
      "text/plain": [
       "Text(0, 0.5, 'MSE in Price')"
      ]
     },
     "execution_count": 13,
     "metadata": {},
     "output_type": "execute_result"
    },
    {
     "data": {
      "image/png": "[encoded data removed]",
      "text/plain": [
       "<Figure size 432x288 with 1 Axes>"
      ]
     },
     "metadata": {
      "needs_background": "light"
     },
     "output_type": "display_data"
    }
   ],
   "source": [
    "alpha = [(x*0.01) * 5 for x in range(30)]\n",
    "scores = [cv_accuracy_score(X, y, num_nbrs) for num_nbrs in alpha]\n",
    "plot(alpha, scores)\n",
    "xlabel('Alpha value')\n",
    "ylabel('MSE in Price')"
   ]
  },
  {
   "cell_type": "code",
   "execution_count": 14,
   "id": "e655b118",
   "metadata": {},
   "outputs": [
    {
     "name": "stdout",
     "output_type": "stream",
     "text": [
      "alpha value for minimum RMSE of  52.56  is : 0.0\n"
     ]
    }
   ],
   "source": [
    "min_score = min(scores)\n",
    "for i in range(len(scores)):\n",
    "    if scores[i] == min_score:\n",
    "        index = i\n",
    "        break\n",
    "print(\"alpha value for minimum RMSE of \",round(scores[index],2),\" is :\",alpha[index])"
   ]
  },
  {
   "cell_type": "markdown",
   "id": "9e33539b",
   "metadata": {},
   "source": [
    "# Ridge Regression"
   ]
  },
  {
   "cell_type": "code",
   "execution_count": 15,
   "id": "a75fadc1",
   "metadata": {},
   "outputs": [
    {
     "data": {
      "text/plain": [
       "51.512969518126766"
      ]
     },
     "execution_count": 15,
     "metadata": {},
     "output_type": "execute_result"
    }
   ],
   "source": [
    "clf = linear_model.Ridge(alpha=0.1)\n",
    "result = clf.fit(X_train, y_train) \n",
    "from sklearn import metrics\n",
    "\n",
    "prediction_train = result.predict(X_train)\n",
    "rms = mean_squared_error(de_norm(y_train), de_norm(prediction_train), squared=False)\n",
    "rms"
   ]
  },
  {
   "cell_type": "code",
   "execution_count": 16,
   "id": "a035521e",
   "metadata": {},
   "outputs": [
    {
     "data": {
      "text/plain": [
       "51.5395086504574"
      ]
     },
     "execution_count": 16,
     "metadata": {},
     "output_type": "execute_result"
    }
   ],
   "source": [
    "prediction_test = result.predict(X_test)\n",
    "rms = mean_squared_error(de_norm(y_test), de_norm(prediction_test), squared=False)\n",
    "rms"
   ]
  },
  {
   "cell_type": "code",
   "execution_count": 17,
   "id": "1c248724",
   "metadata": {},
   "outputs": [
    {
     "data": {
      "text/plain": [
       "(Index(['Intercept', 'neighbourhood[T.Bijlmer-Oost]',\n",
       "        'neighbourhood[T.Bos en Lommer]',\n",
       "        'neighbourhood[T.Buitenveldert - Zuidas]',\n",
       "        'neighbourhood[T.Centrum-Oost]', 'neighbourhood[T.Centrum-West]',\n",
       "        'neighbourhood[T.De Aker - Nieuw Sloten]',\n",
       "        'neighbourhood[T.De Baarsjes - Oud-West]',\n",
       "        'neighbourhood[T.De Pijp - Rivierenbuurt]',\n",
       "        'neighbourhood[T.Gaasperdam - Driemond]',\n",
       "        'neighbourhood[T.Geuzenveld - Slotermeer]',\n",
       "        'neighbourhood[T.IJburg - Zeeburgereiland]',\n",
       "        'neighbourhood[T.Noord-Oost]', 'neighbourhood[T.Noord-West]',\n",
       "        'neighbourhood[T.Oostelijk Havengebied - Indische Buurt]',\n",
       "        'neighbourhood[T.Osdorp]', 'neighbourhood[T.Oud-Noord]',\n",
       "        'neighbourhood[T.Oud-Oost]', 'neighbourhood[T.Slotervaart]',\n",
       "        'neighbourhood[T.Watergraafsmeer]', 'neighbourhood[T.Westerpark]',\n",
       "        'neighbourhood[T.Zuid]', 'room_type[T.Hotel room]',\n",
       "        'room_type[T.Private room]', 'room_type[T.Shared room]',\n",
       "        'number_of_reviews', 'availability_365', 'minimum_nights',\n",
       "        'reviews_per_month', 'calculated_host_listings_count'],\n",
       "       dtype='object'),\n",
       " array([ 0.        ,  0.01142519,  0.00421721,  0.05364774,  0.13886402,\n",
       "         0.1442907 ,  0.02140915,  0.07182229,  0.09594481, -0.03270523,\n",
       "         0.0306119 ,  0.11253017,  0.05388274,  0.04579831,  0.03059361,\n",
       "        -0.00654132,  0.06431828,  0.05793807,  0.02425325,  0.06887801,\n",
       "         0.06864802,  0.09115059, -0.1717739 , -0.19966271, -0.24612534,\n",
       "        -0.15044409,  0.12486062, -0.21254429, -0.14382677, -0.03178855]))"
      ]
     },
     "execution_count": 17,
     "metadata": {},
     "output_type": "execute_result"
    }
   ],
   "source": [
    "X.columns, result.coef_"
   ]
  },
  {
   "cell_type": "markdown",
   "id": "f1ca7a6e",
   "metadata": {},
   "source": [
    "On interpretation we see that:\n",
    "- Higher the minimum nights, lesser the price\n",
    "- The prices are very low for shared rooms\n",
    "- Neighbourhood centrum west has higher prices"
   ]
  },
  {
   "cell_type": "code",
   "execution_count": 18,
   "id": "fd714585",
   "metadata": {},
   "outputs": [
    {
     "data": {
      "text/plain": [
       "50.87497381936445"
      ]
     },
     "execution_count": 18,
     "metadata": {},
     "output_type": "execute_result"
    }
   ],
   "source": [
    "def cv_accuracy_score(X, y,alpha):\n",
    "    \"\"\"For each fold, fit the nearest neighbors model\n",
    "    with nn nearest neighbors on the train, and return accuracy\n",
    "    on the test.\"\"\"\n",
    "    \n",
    "    MSE_array = []\n",
    "    model = linear_model.Ridge(alpha=alpha)\n",
    "    \n",
    "    kfold = ShuffleSplit(n_splits=5, random_state=None).split(X, y)\n",
    "    \n",
    "    for train, holdout in kfold:\n",
    "        # Select the training and testing data using the indices\n",
    "        # provided by kfold\n",
    "        X_train = X.iloc[train]\n",
    "        X_holdout = X.iloc[holdout]\n",
    "        y_train = y[train]\n",
    "        y_holdout = y[holdout]\n",
    "        \n",
    "        # Fit the model\n",
    "        model.fit(X_train, y_train)\n",
    "        \n",
    "        # Compute test accuracy\n",
    "        MSE = mean_squared_error(de_norm(model.predict(X_holdout)), de_norm(y_holdout), squared=False)\n",
    "        MSE_array.append(MSE)\n",
    "    return average(MSE_array)\n",
    "\n",
    "cv_accuracy_score(X,y,0.1)"
   ]
  },
  {
   "cell_type": "code",
   "execution_count": 19,
   "id": "27fc6f4b",
   "metadata": {},
   "outputs": [
    {
     "data": {
      "text/plain": [
       "Text(0, 0.5, 'MSE in Price')"
      ]
     },
     "execution_count": 19,
     "metadata": {},
     "output_type": "execute_result"
    },
    {
     "data": {
      "image/png": "[encoded data removed]",
      "text/plain": [
       "<Figure size 432x288 with 1 Axes>"
      ]
     },
     "metadata": {
      "needs_background": "light"
     },
     "output_type": "display_data"
    }
   ],
   "source": [
    "alpha = [(x*0.01) * 5 for x in range(30)]\n",
    "scores = [cv_accuracy_score(X, y, num_nbrs) for num_nbrs in alpha]\n",
    "plot(alpha, scores)\n",
    "xlabel('Alpha value')\n",
    "ylabel('MSE in Price')"
   ]
  },
  {
   "cell_type": "code",
   "execution_count": 20,
   "id": "9061f1ca",
   "metadata": {},
   "outputs": [
    {
     "name": "stdout",
     "output_type": "stream",
     "text": [
      "alpha value for minimum RMSE of  50.81  is : 0.1\n"
     ]
    }
   ],
   "source": [
    "min_score = min(scores)\n",
    "for i in range(len(scores)):\n",
    "    if scores[i] == min_score:\n",
    "        index = i\n",
    "        break\n",
    "print(\"alpha value for minimum RMSE of \",round(scores[index],2),\" is :\",alpha[index])"
   ]
  },
  {
   "cell_type": "code",
   "execution_count": 21,
   "id": "9d7588d3",
   "metadata": {},
   "outputs": [
    {
     "data": {
      "text/plain": [
       "51.534297017745075"
      ]
     },
     "execution_count": 21,
     "metadata": {},
     "output_type": "execute_result"
    }
   ],
   "source": [
    "cv_accuracy_score(X,y,0.2)"
   ]
  },
  {
   "cell_type": "code",
   "execution_count": 22,
   "id": "38f9c702",
   "metadata": {},
   "outputs": [],
   "source": [
    "# X_test['Y_test_value'] = de_norm(y_test)\n",
    "# X_test['Y_pred_value'] = de_norm(prediction_test)"
   ]
  },
  {
   "cell_type": "code",
   "execution_count": 25,
   "id": "72c2da83",
   "metadata": {},
   "outputs": [],
   "source": [
    "# X_test.to_csv('prices.csv',index = False)"
   ]
  },
  {
   "cell_type": "markdown",
   "id": "bac8ed67",
   "metadata": {},
   "source": [
    "# Ridge Regression after Splitting the data based on Room Type"
   ]
  },
  {
   "cell_type": "code",
   "execution_count": 26,
   "id": "510e47d7",
   "metadata": {},
   "outputs": [],
   "source": [
    "norm_col = ['latitude','longitude','price','minimum_nights','number_of_reviews','reviews_per_month','calculated_host_listings_count','availability_365']\n",
    "\n",
    "amseterdam_airbnb_norm = amseterdam_airbnb.copy()\n",
    "for name in norm_col:\n",
    "    amseterdam_airbnb_norm[name] = (amseterdam_airbnb_norm[name] - amseterdam_airbnb_norm[name].min())/(amseterdam_airbnb_norm[name].max() - amseterdam_airbnb_norm[name].min())\n",
    "\n",
    "    \n",
    "a = amseterdam_airbnb['price'].max()\n",
    "b = amseterdam_airbnb['price'].min()\n",
    "\n",
    "def de_norm(MSE) : \n",
    "    return (MSE*(a-b))+b"
   ]
  },
  {
   "cell_type": "code",
   "execution_count": 33,
   "id": "4e378830",
   "metadata": {},
   "outputs": [],
   "source": [
    "amseterdam_airbnb_norm_entire_home = amseterdam_airbnb_norm[amseterdam_airbnb_norm['room_type']=='Entire home/apt']\n",
    "amseterdam_airbnb_norm_pvt_room = amseterdam_airbnb_norm[amseterdam_airbnb_norm['room_type']=='Private room']"
   ]
  },
  {
   "cell_type": "markdown",
   "id": "33beb748",
   "metadata": {},
   "source": [
    "# Ridge Regression - Entire Home/apt"
   ]
  },
  {
   "cell_type": "code",
   "execution_count": 68,
   "id": "c125094d",
   "metadata": {},
   "outputs": [],
   "source": [
    "y,X = dmatrices('price ~ neighbourhood + number_of_reviews + availability_365 \\\n",
    "                + minimum_nights + reviews_per_month + calculated_host_listings_count',\n",
    "                data = amseterdam_airbnb_norm_entire_home, return_type = 'dataframe')\n",
    "\n",
    "y = y['price'].values"
   ]
  },
  {
   "cell_type": "code",
   "execution_count": 69,
   "id": "330fda13",
   "metadata": {},
   "outputs": [
    {
     "data": {
      "text/plain": [
       "53.68456262973259"
      ]
     },
     "execution_count": 69,
     "metadata": {},
     "output_type": "execute_result"
    }
   ],
   "source": [
    "X_train, X_test, y_train, y_test = train_test_split(X, y, test_size=0.3, random_state=1)\n",
    "\n",
    "clf = linear_model.Ridge(alpha=0.1)\n",
    "result = clf.fit(X_train, y_train) \n",
    "from sklearn import metrics\n",
    "\n",
    "prediction_train = result.predict(X_train)\n",
    "rms = mean_squared_error(de_norm(y_train), de_norm(prediction_train), squared=False)\n",
    "rms"
   ]
  },
  {
   "cell_type": "code",
   "execution_count": 70,
   "id": "25a13bd4",
   "metadata": {},
   "outputs": [
    {
     "data": {
      "text/plain": [
       "54.029150916731744"
      ]
     },
     "execution_count": 70,
     "metadata": {},
     "output_type": "execute_result"
    }
   ],
   "source": [
    "prediction_test = result.predict(X_test)\n",
    "rms = mean_squared_error(de_norm(y_test), de_norm(prediction_test), squared=False)\n",
    "rms"
   ]
  },
  {
   "cell_type": "code",
   "execution_count": 71,
   "id": "48903192",
   "metadata": {},
   "outputs": [
    {
     "data": {
      "text/plain": [
       "(Index(['Intercept', 'neighbourhood[T.Bijlmer-Oost]',\n",
       "        'neighbourhood[T.Bos en Lommer]',\n",
       "        'neighbourhood[T.Buitenveldert - Zuidas]',\n",
       "        'neighbourhood[T.Centrum-Oost]', 'neighbourhood[T.Centrum-West]',\n",
       "        'neighbourhood[T.De Aker - Nieuw Sloten]',\n",
       "        'neighbourhood[T.De Baarsjes - Oud-West]',\n",
       "        'neighbourhood[T.De Pijp - Rivierenbuurt]',\n",
       "        'neighbourhood[T.Gaasperdam - Driemond]',\n",
       "        'neighbourhood[T.Geuzenveld - Slotermeer]',\n",
       "        'neighbourhood[T.IJburg - Zeeburgereiland]',\n",
       "        'neighbourhood[T.Noord-Oost]', 'neighbourhood[T.Noord-West]',\n",
       "        'neighbourhood[T.Oostelijk Havengebied - Indische Buurt]',\n",
       "        'neighbourhood[T.Osdorp]', 'neighbourhood[T.Oud-Noord]',\n",
       "        'neighbourhood[T.Oud-Oost]', 'neighbourhood[T.Slotervaart]',\n",
       "        'neighbourhood[T.Watergraafsmeer]', 'neighbourhood[T.Westerpark]',\n",
       "        'neighbourhood[T.Zuid]', 'number_of_reviews', 'availability_365',\n",
       "        'minimum_nights', 'reviews_per_month',\n",
       "        'calculated_host_listings_count'],\n",
       "       dtype='object'),\n",
       " array([ 0.        ,  0.06110248,  0.05176251,  0.11609163,  0.18704963,\n",
       "         0.19032646,  0.08920094,  0.12246067,  0.15210304,  0.02160229,\n",
       "         0.05404549,  0.1760028 ,  0.11672668,  0.10774662,  0.07017273,\n",
       "         0.06721847,  0.09690128,  0.10305211,  0.08257211,  0.12406886,\n",
       "         0.10710918,  0.14372067, -0.2899235 ,  0.14568069, -0.25582553,\n",
       "         0.08136294, -0.04666682]))"
      ]
     },
     "execution_count": 71,
     "metadata": {},
     "output_type": "execute_result"
    }
   ],
   "source": [
    "X.columns, result.coef_"
   ]
  },
  {
   "cell_type": "code",
   "execution_count": 72,
   "id": "3787b28d",
   "metadata": {},
   "outputs": [
    {
     "data": {
      "text/plain": [
       "53.94937451178147"
      ]
     },
     "execution_count": 72,
     "metadata": {},
     "output_type": "execute_result"
    }
   ],
   "source": [
    "def cv_accuracy_score(X, y,alpha):\n",
    "    \"\"\"For each fold, fit the nearest neighbors model\n",
    "    with nn nearest neighbors on the train, and return accuracy\n",
    "    on the test.\"\"\"\n",
    "    \n",
    "    MSE_array = []\n",
    "    model = linear_model.Ridge(alpha=alpha)\n",
    "    \n",
    "    kfold = ShuffleSplit(n_splits=5, random_state=None).split(X, y)\n",
    "    \n",
    "    for train, holdout in kfold:\n",
    "        # Select the training and testing data using the indices\n",
    "        # provided by kfold\n",
    "        X_train = X.iloc[train]\n",
    "        X_holdout = X.iloc[holdout]\n",
    "        y_train = y[train]\n",
    "        y_holdout = y[holdout]\n",
    "        \n",
    "        # Fit the model\n",
    "        model.fit(X_train, y_train)\n",
    "        \n",
    "        # Compute test accuracy\n",
    "        MSE = mean_squared_error(de_norm(model.predict(X_holdout)), de_norm(y_holdout), squared=False)\n",
    "        MSE_array.append(MSE)\n",
    "    return average(MSE_array)\n",
    "\n",
    "cv_accuracy_score(X,y,0.1)"
   ]
  },
  {
   "cell_type": "code",
   "execution_count": 73,
   "id": "5d524fb8",
   "metadata": {},
   "outputs": [
    {
     "data": {
      "text/plain": [
       "Text(0, 0.5, 'MSE in Price')"
      ]
     },
     "execution_count": 73,
     "metadata": {},
     "output_type": "execute_result"
    },
    {
     "data": {
      "image/png": "[encoded data removed]",
      "text/plain": [
       "<Figure size 432x288 with 1 Axes>"
      ]
     },
     "metadata": {
      "needs_background": "light"
     },
     "output_type": "display_data"
    }
   ],
   "source": [
    "alpha = [(x*0.01) * 5 for x in range(30)]\n",
    "scores = [cv_accuracy_score(X, y, num_nbrs) for num_nbrs in alpha]\n",
    "plot(alpha, scores)\n",
    "xlabel('Alpha value')\n",
    "ylabel('MSE in Price')"
   ]
  },
  {
   "cell_type": "code",
   "execution_count": 74,
   "id": "201bcfe2",
   "metadata": {},
   "outputs": [
    {
     "name": "stdout",
     "output_type": "stream",
     "text": [
      "alpha value for minimum RMSE of  53.07  is : 0.8999999999999999\n"
     ]
    }
   ],
   "source": [
    "min_score = min(scores)\n",
    "for i in range(len(scores)):\n",
    "    if scores[i] == min_score:\n",
    "        index = i\n",
    "        break\n",
    "print(\"alpha value for minimum RMSE of \",round(scores[index],2),\" is :\",alpha[index])"
   ]
  },
  {
   "cell_type": "code",
   "execution_count": 58,
   "id": "a3198bb9",
   "metadata": {},
   "outputs": [
    {
     "data": {
      "text/plain": [
       "54.35424946133976"
      ]
     },
     "execution_count": 58,
     "metadata": {},
     "output_type": "execute_result"
    }
   ],
   "source": [
    "cv_accuracy_score(X,y,1.25)"
   ]
  },
  {
   "cell_type": "markdown",
   "id": "8596c8be",
   "metadata": {},
   "source": [
    "# Ridge Regression - Private Room"
   ]
  },
  {
   "cell_type": "code",
   "execution_count": 59,
   "id": "68b4d2a2",
   "metadata": {},
   "outputs": [],
   "source": [
    "y,X = dmatrices('price ~ neighbourhood + number_of_reviews + availability_365 \\\n",
    "                + minimum_nights + reviews_per_month + calculated_host_listings_count',\n",
    "                data = amseterdam_airbnb_norm_pvt_room, return_type = 'dataframe')\n",
    "\n",
    "y = y['price'].values"
   ]
  },
  {
   "cell_type": "code",
   "execution_count": 60,
   "id": "826f6d29",
   "metadata": {},
   "outputs": [
    {
     "data": {
      "text/plain": [
       "39.966549882603005"
      ]
     },
     "execution_count": 60,
     "metadata": {},
     "output_type": "execute_result"
    }
   ],
   "source": [
    "X_train, X_test, y_train, y_test = train_test_split(X, y, test_size=0.3, random_state=1)\n",
    "\n",
    "clf = linear_model.Ridge(alpha=0.1)\n",
    "result = clf.fit(X_train, y_train) \n",
    "from sklearn import metrics\n",
    "\n",
    "prediction_train = result.predict(X_train)\n",
    "rms = mean_squared_error(de_norm(y_train), de_norm(prediction_train), squared=False)\n",
    "rms"
   ]
  },
  {
   "cell_type": "code",
   "execution_count": 61,
   "id": "084472e2",
   "metadata": {},
   "outputs": [
    {
     "data": {
      "text/plain": [
       "42.5559439504541"
      ]
     },
     "execution_count": 61,
     "metadata": {},
     "output_type": "execute_result"
    }
   ],
   "source": [
    "prediction_test = result.predict(X_test)\n",
    "rms = mean_squared_error(de_norm(y_test), de_norm(prediction_test), squared=False)\n",
    "rms"
   ]
  },
  {
   "cell_type": "code",
   "execution_count": 62,
   "id": "7a3597ed",
   "metadata": {},
   "outputs": [
    {
     "data": {
      "text/plain": [
       "(Index(['Intercept', 'neighbourhood[T.Bijlmer-Oost]',\n",
       "        'neighbourhood[T.Bos en Lommer]',\n",
       "        'neighbourhood[T.Buitenveldert - Zuidas]',\n",
       "        'neighbourhood[T.Centrum-Oost]', 'neighbourhood[T.Centrum-West]',\n",
       "        'neighbourhood[T.De Aker - Nieuw Sloten]',\n",
       "        'neighbourhood[T.De Baarsjes - Oud-West]',\n",
       "        'neighbourhood[T.De Pijp - Rivierenbuurt]',\n",
       "        'neighbourhood[T.Gaasperdam - Driemond]',\n",
       "        'neighbourhood[T.Geuzenveld - Slotermeer]',\n",
       "        'neighbourhood[T.IJburg - Zeeburgereiland]',\n",
       "        'neighbourhood[T.Noord-Oost]', 'neighbourhood[T.Noord-West]',\n",
       "        'neighbourhood[T.Oostelijk Havengebied - Indische Buurt]',\n",
       "        'neighbourhood[T.Osdorp]', 'neighbourhood[T.Oud-Noord]',\n",
       "        'neighbourhood[T.Oud-Oost]', 'neighbourhood[T.Slotervaart]',\n",
       "        'neighbourhood[T.Watergraafsmeer]', 'neighbourhood[T.Westerpark]',\n",
       "        'neighbourhood[T.Zuid]', 'number_of_reviews', 'availability_365',\n",
       "        'minimum_nights', 'reviews_per_month',\n",
       "        'calculated_host_listings_count'],\n",
       "       dtype='object'),\n",
       " array([ 0.        , -0.03833303,  0.01866202,  0.02949389,  0.12730601,\n",
       "         0.13445277,  0.02254818,  0.04591464,  0.06099364, -0.04673037,\n",
       "         0.0186451 ,  0.04747561,  0.01827207, -0.00305932,  0.03895905,\n",
       "        -0.03049909,  0.05753383,  0.0534765 , -0.00931913,  0.02153948,\n",
       "         0.06425313,  0.08751897, -0.09338455,  0.06737748, -0.0682241 ,\n",
       "        -0.19456177,  0.0546137 ]))"
      ]
     },
     "execution_count": 62,
     "metadata": {},
     "output_type": "execute_result"
    }
   ],
   "source": [
    "X.columns, result.coef_"
   ]
  },
  {
   "cell_type": "code",
   "execution_count": 63,
   "id": "0ceab460",
   "metadata": {},
   "outputs": [
    {
     "data": {
      "text/plain": [
       "40.26819596048258"
      ]
     },
     "execution_count": 63,
     "metadata": {},
     "output_type": "execute_result"
    }
   ],
   "source": [
    "def cv_accuracy_score(X, y,alpha):\n",
    "    \"\"\"For each fold, fit the nearest neighbors model\n",
    "    with nn nearest neighbors on the train, and return accuracy\n",
    "    on the test.\"\"\"\n",
    "    \n",
    "    MSE_array = []\n",
    "    model = linear_model.Ridge(alpha=alpha)\n",
    "    \n",
    "    kfold = ShuffleSplit(n_splits=5, random_state=None).split(X, y)\n",
    "    \n",
    "    for train, holdout in kfold:\n",
    "        # Select the training and testing data using the indices\n",
    "        X_train = X.iloc[train]\n",
    "        X_holdout = X.iloc[holdout]\n",
    "        y_train = y[train]\n",
    "        y_holdout = y[holdout]\n",
    "        \n",
    "        # Fit the model\n",
    "        model.fit(X_train, y_train)\n",
    "        \n",
    "        # Compute test accuracy\n",
    "        MSE = mean_squared_error(de_norm(model.predict(X_holdout)), de_norm(y_holdout), squared=False)\n",
    "        MSE_array.append(MSE)\n",
    "    return average(MSE_array)\n",
    "\n",
    "cv_accuracy_score(X,y,0.1)"
   ]
  },
  {
   "cell_type": "code",
   "execution_count": 64,
   "id": "4d1e663e",
   "metadata": {},
   "outputs": [
    {
     "data": {
      "text/plain": [
       "Text(0, 0.5, 'MSE in Price')"
      ]
     },
     "execution_count": 64,
     "metadata": {},
     "output_type": "execute_result"
    },
    {
     "data": {
      "image/png": "[encoded data removed]",
      "text/plain": [
       "<Figure size 432x288 with 1 Axes>"
      ]
     },
     "metadata": {
      "needs_background": "light"
     },
     "output_type": "display_data"
    }
   ],
   "source": [
    "alpha = [(x*0.01) * 5 for x in range(30)]\n",
    "scores = [cv_accuracy_score(X, y, num_nbrs) for num_nbrs in alpha]\n",
    "plot(alpha, scores)\n",
    "xlabel('Alpha value')\n",
    "ylabel('MSE in Price')"
   ]
  },
  {
   "cell_type": "code",
   "execution_count": 65,
   "id": "f902a1ac",
   "metadata": {},
   "outputs": [
    {
     "name": "stdout",
     "output_type": "stream",
     "text": [
      "alpha value for minimum RMSE of  38.64  is : 0.95\n"
     ]
    }
   ],
   "source": [
    "min_score = min(scores)\n",
    "for i in range(len(scores)):\n",
    "    if scores[i] == min_score:\n",
    "        index = i\n",
    "        break\n",
    "print(\"alpha value for minimum RMSE of \",round(scores[index],2),\" is :\",alpha[index])"
   ]
  },
  {
   "cell_type": "code",
   "execution_count": 66,
   "id": "02921a53",
   "metadata": {},
   "outputs": [
    {
     "data": {
      "text/plain": [
       "40.74125803021608"
      ]
     },
     "execution_count": 66,
     "metadata": {},
     "output_type": "execute_result"
    }
   ],
   "source": [
    "cv_accuracy_score(X,y,0.95)"
   ]
  }
 ],
 "metadata": {
  "kernelspec": {
   "display_name": "Python 3",
   "language": "python",
   "name": "python3"
  },
  "language_info": {
   "codemirror_mode": {
    "name": "ipython",
    "version": 3
   },
   "file_extension": ".py",
   "mimetype": "text/x-python",
   "name": "python",
   "nbconvert_exporter": "python",
   "pygments_lexer": "ipython3",
   "version": "3.9.5"
  }
 },
 "nbformat": 4,
 "nbformat_minor": 5
}
