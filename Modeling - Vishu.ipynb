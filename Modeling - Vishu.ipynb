{
 "cells": [
  {
   "cell_type": "code",
   "execution_count": 70,
   "id": "5f298bda",
   "metadata": {},
   "outputs": [
    {
     "name": "stdout",
     "output_type": "stream",
     "text": [
      "Populating the interactive namespace from numpy and matplotlib\n"
     ]
    }
   ],
   "source": [
    "from pandas import Series, DataFrame\n",
    "import matplotlib.pyplot as plt\n",
    "import pandas as pd\n",
    "import statsmodels.api as sm\n",
    "from patsy import dmatrices\n",
    "%pylab inline"
   ]
  },
  {
   "cell_type": "code",
   "execution_count": 122,
   "id": "ee9fe2ac",
   "metadata": {},
   "outputs": [
    {
     "data": {
      "text/html": [
       "<div>\n",
       "<style scoped>\n",
       "    .dataframe tbody tr th:only-of-type {\n",
       "        vertical-align: middle;\n",
       "    }\n",
       "\n",
       "    .dataframe tbody tr th {\n",
       "        vertical-align: top;\n",
       "    }\n",
       "\n",
       "    .dataframe thead th {\n",
       "        text-align: right;\n",
       "    }\n",
       "</style>\n",
       "<table border=\"1\" class=\"dataframe\">\n",
       "  <thead>\n",
       "    <tr style=\"text-align: right;\">\n",
       "      <th></th>\n",
       "      <th>id</th>\n",
       "      <th>name</th>\n",
       "      <th>host_id</th>\n",
       "      <th>host_name</th>\n",
       "      <th>neighbourhood_group</th>\n",
       "      <th>neighbourhood</th>\n",
       "      <th>latitude</th>\n",
       "      <th>longitude</th>\n",
       "      <th>room_type</th>\n",
       "      <th>price</th>\n",
       "      <th>minimum_nights</th>\n",
       "      <th>number_of_reviews</th>\n",
       "      <th>last_review</th>\n",
       "      <th>reviews_per_month</th>\n",
       "      <th>calculated_host_listings_count</th>\n",
       "      <th>availability_365</th>\n",
       "    </tr>\n",
       "  </thead>\n",
       "  <tbody>\n",
       "    <tr>\n",
       "      <th>0</th>\n",
       "      <td>2818</td>\n",
       "      <td>Quiet Garden View Room &amp; Super Fast WiFi</td>\n",
       "      <td>3159</td>\n",
       "      <td>Daniel</td>\n",
       "      <td>NaN</td>\n",
       "      <td>Oostelijk Havengebied - Indische Buurt</td>\n",
       "      <td>52.36435</td>\n",
       "      <td>4.94358</td>\n",
       "      <td>Private room</td>\n",
       "      <td>60</td>\n",
       "      <td>3</td>\n",
       "      <td>278</td>\n",
       "      <td>2019-11-21</td>\n",
       "      <td>2.90</td>\n",
       "      <td>1</td>\n",
       "      <td>137</td>\n",
       "    </tr>\n",
       "    <tr>\n",
       "      <th>1</th>\n",
       "      <td>20168</td>\n",
       "      <td>Studio with private bathroom in the centre 1</td>\n",
       "      <td>59484</td>\n",
       "      <td>Alexander</td>\n",
       "      <td>NaN</td>\n",
       "      <td>Centrum-Oost</td>\n",
       "      <td>52.36407</td>\n",
       "      <td>4.89393</td>\n",
       "      <td>Private room</td>\n",
       "      <td>106</td>\n",
       "      <td>1</td>\n",
       "      <td>339</td>\n",
       "      <td>2020-03-27</td>\n",
       "      <td>3.73</td>\n",
       "      <td>2</td>\n",
       "      <td>0</td>\n",
       "    </tr>\n",
       "  </tbody>\n",
       "</table>\n",
       "</div>"
      ],
      "text/plain": [
       "      id                                          name  host_id  host_name  \\\n",
       "0   2818      Quiet Garden View Room & Super Fast WiFi     3159     Daniel   \n",
       "1  20168  Studio with private bathroom in the centre 1    59484  Alexander   \n",
       "\n",
       "   neighbourhood_group                           neighbourhood  latitude  \\\n",
       "0                  NaN  Oostelijk Havengebied - Indische Buurt  52.36435   \n",
       "1                  NaN                            Centrum-Oost  52.36407   \n",
       "\n",
       "   longitude     room_type  price  minimum_nights  number_of_reviews  \\\n",
       "0    4.94358  Private room     60               3                278   \n",
       "1    4.89393  Private room    106               1                339   \n",
       "\n",
       "  last_review  reviews_per_month  calculated_host_listings_count  \\\n",
       "0  2019-11-21               2.90                               1   \n",
       "1  2020-03-27               3.73                               2   \n",
       "\n",
       "   availability_365  \n",
       "0               137  \n",
       "1                 0  "
      ]
     },
     "execution_count": 122,
     "metadata": {},
     "output_type": "execute_result"
    }
   ],
   "source": [
    "df = pd.read_csv(\"listings.csv\")\n",
    "df[:2]"
   ]
  },
  {
   "cell_type": "code",
   "execution_count": 123,
   "id": "74d955f7",
   "metadata": {},
   "outputs": [],
   "source": [
    "#data cleaning\n",
    "df['reviews_per_month'] = df['reviews_per_month'].fillna(0)\n",
    "df.drop(['neighbourhood_group'], inplace=True, axis=1)"
   ]
  },
  {
   "cell_type": "code",
   "execution_count": 124,
   "id": "69589f4f",
   "metadata": {},
   "outputs": [
    {
     "name": "stdout",
     "output_type": "stream",
     "text": [
      "count    16724.00000\n",
      "mean       156.15977\n",
      "std        172.48717\n",
      "min          0.00000\n",
      "25%         95.00000\n",
      "50%        129.00000\n",
      "75%        180.00000\n",
      "max       8000.00000\n",
      "Name: price, dtype: float64\n",
      "count    15842.000000\n",
      "mean       135.715629\n",
      "std         58.986716\n",
      "min          0.000000\n",
      "25%         94.250000\n",
      "50%        125.000000\n",
      "75%        170.000000\n",
      "max        307.000000\n",
      "Name: price, dtype: float64\n"
     ]
    }
   ],
   "source": [
    "#removing recrods with outlier prices \n",
    "print(df['price'].describe())\n",
    "Q1 = df['price'].quantile(0.25)\n",
    "Q3 = df['price'].quantile(0.75)\n",
    "IQR = Q3 - Q1\n",
    "df = df[~((df['price'] < (Q1 - 1.5 * IQR)) |(df['price'] > (Q3 + 1.5 * IQR)))]\n",
    "print(df['price'].describe())"
   ]
  },
  {
   "cell_type": "markdown",
   "id": "1c1e3958",
   "metadata": {},
   "source": [
    "### KNN Model via cross validaiton"
   ]
  },
  {
   "cell_type": "code",
   "execution_count": 125,
   "id": "b38d6486",
   "metadata": {},
   "outputs": [
    {
     "name": "stdout",
     "output_type": "stream",
     "text": [
      "Populating the interactive namespace from numpy and matplotlib\n"
     ]
    }
   ],
   "source": [
    "#loading requried library \n",
    "from patsy import dmatrices\n",
    "from sklearn import preprocessing\n",
    "%pylab inline\n",
    "from sklearn.model_selection import train_test_split\n",
    "from sklearn import neighbors\n",
    "from sklearn import metrics\n",
    "from sklearn import model_selection\n",
    "\n",
    "#scaling the data \n",
    "norm_col = ['latitude','longitude','price','minimum_nights','number_of_reviews','reviews_per_month','calculated_host_listings_count','availability_365']\n",
    "\n",
    "df_norm = df.copy()\n",
    "\n",
    "for name in norm_col:\n",
    "    df_norm[name] = (df_norm[name] - df_norm[name].min())/(df_norm[name].max() - df_norm[name].min())\n",
    "    \n",
    "#creating the dmatrice    \n",
    "Y, X = dmatrices('price ~ 0 + C(host_id) + neighbourhood + room_type + last_review + latitude + longitude + price + minimum_nights + number_of_reviews + reviews_per_month + calculated_host_listings_count + availability_365', df_norm, return_type = \"dataframe\")\n",
    "\n",
    "#storing Y values in a list \n",
    "y = Y['price'].values"
   ]
  },
  {
   "cell_type": "code",
   "execution_count": 140,
   "id": "47c5fd75",
   "metadata": {},
   "outputs": [
    {
     "data": {
      "text/plain": [
       "10.878862973760933"
      ]
     },
     "execution_count": 140,
     "metadata": {},
     "output_type": "execute_result"
    }
   ],
   "source": [
    "from sklearn.model_selection import ShuffleSplit\n",
    "\n",
    "a = df['price'].max()\n",
    "b = df['price'].min()\n",
    "\n",
    "def de_norm(MSE) : \n",
    "    return (MSE*(a-b))+b\n",
    "\n",
    "def cv_accuracy_score(X, y, nn):\n",
    "    \"\"\"For each fold, fit the nearest neighbors model\n",
    "    with nn nearest neighbors on the train, and return accuracy\n",
    "    on the test.\"\"\"\n",
    "    \n",
    "    model = neighbors.KNeighborsRegressor(n_neighbors=nn,\n",
    "                                           weights='uniform')\n",
    "    \n",
    "    \n",
    "\n",
    "    kfold = ShuffleSplit(n_splits=3, random_state=None).split(X, y)\n",
    "    \n",
    "    for train, holdout in kfold:\n",
    "        # Select the training and testing data using the indices\n",
    "        # provided by kfold\n",
    "        X_train = X.iloc[train]\n",
    "        X_holdout = X.iloc[holdout]\n",
    "        y_train = y[train]\n",
    "        y_holdout = y[holdout]\n",
    "        \n",
    "        # Fit the model\n",
    "        model.fit(X_train, y_train)\n",
    "        \n",
    "        # Compute test accuracy\n",
    "        \n",
    "        MSE = average(absolute(de_norm(model.predict(X_holdout)) - de_norm(y_holdout)))\n",
    "        \n",
    "    \n",
    "    \n",
    "    return MSE\n",
    "cv_accuracy_score(X,y,15)"
   ]
  },
  {
   "cell_type": "code",
   "execution_count": 145,
   "id": "98b678f9",
   "metadata": {},
   "outputs": [
    {
     "data": {
      "text/plain": [
       "Text(0, 0.5, 'MSE in Price')"
      ]
     },
     "execution_count": 145,
     "metadata": {},
     "output_type": "execute_result"
    },
    {
     "data": {
      "image/png": "[encoded data removed]",
      "text/plain": [
       "<Figure size 432x288 with 1 Axes>"
      ]
     },
     "metadata": {
      "needs_background": "light"
     },
     "output_type": "display_data"
    }
   ],
   "source": [
    "nn = [1] + [(x + 1) * 5 for x in range(19)]\n",
    "scores = [cv_accuracy_score(X, y, num_nbrs) for num_nbrs in nn]\n",
    "plot(nn, scores)\n",
    "xlabel('Number of nearest neighbors')\n",
    "ylabel('MSE in Price')"
   ]
  },
  {
   "cell_type": "code",
   "execution_count": 167,
   "id": "916209f3",
   "metadata": {},
   "outputs": [
    {
     "name": "stdout",
     "output_type": "stream",
     "text": [
      "25\n"
     ]
    }
   ],
   "source": [
    "a = min(scores)\n",
    "for i in range(len(scores)):\n",
    "    if scores[i] == a:\n",
    "        b = i\n",
    "        break\n",
    "print(nn[5])"
   ]
  },
  {
   "cell_type": "code",
   "execution_count": 161,
   "id": "7df26ea3",
   "metadata": {},
   "outputs": [
    {
     "data": {
      "text/plain": [
       "20"
      ]
     },
     "execution_count": 161,
     "metadata": {},
     "output_type": "execute_result"
    }
   ],
   "source": [
    "len(scores)"
   ]
  }
 ],
 "metadata": {
  "kernelspec": {
   "display_name": "Python 3",
   "language": "python",
   "name": "python3"
  },
  "language_info": {
   "codemirror_mode": {
    "name": "ipython",
    "version": 3
   },
   "file_extension": ".py",
   "mimetype": "text/x-python",
   "name": "python",
   "nbconvert_exporter": "python",
   "pygments_lexer": "ipython3",
   "version": "3.8.8"
  }
 },
 "nbformat": 4,
 "nbformat_minor": 5
}
